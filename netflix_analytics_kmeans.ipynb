{
 "cells": [
  {
   "cell_type": "markdown",
   "id": "b8421e07-80fc-4328-b288-e82f9cbb45f7",
   "metadata": {},
   "source": [
    "## Import required libraries"
   ]
  },
  {
   "cell_type": "code",
   "execution_count": null,
   "id": "6a271d8a-4cc3-4ac9-ab86-1ae87822d056",
   "metadata": {},
   "outputs": [],
   "source": [
    "from pyspark.sql import SparkSession\n",
    "from pyspark.sql.functions import *\n",
    "from pyspark.ml.clustering import KMeans\n",
    "from pyspark.ml.feature import VectorAssembler, StandardScaler\n",
    "import matplotlib.pyplot as plt\n",
    "import seaborn as sns\n",
    "import numpy\n",
    "import findspark\n",
    "findspark.init()"
   ]
  },
  {
   "cell_type": "markdown",
   "id": "3be6af39-ff55-43bc-91bd-104b51302d9f",
   "metadata": {},
   "source": [
    "## Initialize Spark Session"
   ]
  },
  {
   "cell_type": "code",
   "execution_count": null,
   "id": "74b3d1d3-f421-4575-a7eb-dd9c3db36754",
   "metadata": {},
   "outputs": [],
   "source": [
    "from pyspark.sql import SparkSession\n",
    "\n",
    "# Connect to your Spark cluster\n",
    "spark = SparkSession.builder \\\n",
    "    .appName(\"Netflix_Analytics\") \\\n",
    "    .master(\"spark://172.20.10.6:7077\") \\\n",
    "    .getOrCreate()\n",
    "\n",
    "# Verify the Spark session\n",
    "print(spark.version)"
   ]
  },
  {
   "cell_type": "markdown",
   "id": "fb037b38-e8d8-4a91-a878-602a34a2c31c",
   "metadata": {},
   "source": [
    "## Read the CSV file"
   ]
  },
  {
   "cell_type": "code",
   "execution_count": null,
   "id": "ec00dbf9-b450-4621-8073-85017e61fc54",
   "metadata": {},
   "outputs": [],
   "source": [
    "# HDFS path to the CSV file\n",
    "hdfs_path = \"hdfs://localhost:9000/data/netflix/netflix_merged_summary.csv\"\n",
    "\n",
    "# Read the CSV file from HDFS\n",
    "df = spark.read.csv(hdfs_path, header=True, inferSchema=True)\n",
    "\n",
    "# Show the first few rows\n",
    "df.show()\n",
    "\n",
    "# Print the schema of the DataFrame\n",
    "df.printSchema()"
   ]
  },
  {
   "cell_type": "code",
   "execution_count": null,
   "id": "ac759bd8-d439-4c4f-b8bd-ca34ef7c99f7",
   "metadata": {},
   "outputs": [],
   "source": [
    "print(\"\\nSample Data:\")\n",
    "df.show(5)\n"
   ]
  },
  {
   "cell_type": "code",
   "execution_count": null,
   "id": "49319e8c-5632-437c-9c44-f9bec2aa988b",
   "metadata": {},
   "outputs": [],
   "source": [
    "# Show summary statistics\n",
    "print(\"\\nSummary Statistics:\")\n",
    "df.summary().show()\n"
   ]
  },
  {
   "cell_type": "markdown",
   "id": "4fd4d111-6293-46e6-bc36-f859d65be5c0",
   "metadata": {},
   "source": [
    "## Distribution of Average Ratings"
   ]
  },
  {
   "cell_type": "code",
   "execution_count": null,
   "id": "c4b37a2a-3abb-45d4-8d76-caf654ce0463",
   "metadata": {},
   "outputs": [],
   "source": [
    "pandas_df = df.select('avg_rating').toPandas()\n",
    "plt.figure(figsize=(10, 6))\n",
    "sns.histplot(data=pandas_df['avg_rating'], kde=True)\n",
    "plt.title('Distribution of Average Ratings')\n",
    "plt.xlabel('Average Rating')\n",
    "plt.ylabel('Frequency')\n",
    "plt.show()\n"
   ]
  },
  {
   "cell_type": "markdown",
   "id": "c9548431-3819-442a-839b-0a54108b4105",
   "metadata": {},
   "source": [
    "## Calculate yearly statistics"
   ]
  },
  {
   "cell_type": "code",
   "execution_count": null,
   "id": "0b0a6d68-012f-418f-ad4e-dfc5265910a3",
   "metadata": {},
   "outputs": [],
   "source": [
    "yearly_stats = df.groupBy('Year').agg(\n",
    "    avg('avg_rating').alias('mean_rating'),\n",
    "    avg('total_ratings').alias('mean_ratings_count'),\n",
    "    avg('unique_users').alias('mean_unique_users')\n",
    ").orderBy('Year')"
   ]
  },
  {
   "cell_type": "code",
   "execution_count": null,
   "id": "d1c7f3a3-aa1d-4a31-b7f1-58003e1048c9",
   "metadata": {},
   "outputs": [],
   "source": [
    "# Convert to pandas for visualization\n",
    "yearly_stats_pd = yearly_stats.toPandas()\n",
    "yearly_stats_pd"
   ]
  },
  {
   "cell_type": "markdown",
   "id": "29a0cef7-8f77-49f0-aa46-8df3635ed404",
   "metadata": {},
   "source": [
    "## Visualize Yearly Trends"
   ]
  },
  {
   "cell_type": "code",
   "execution_count": null,
   "id": "26be40dd-abac-4974-be2a-6e34b5d7067d",
   "metadata": {},
   "outputs": [],
   "source": [
    "plt.figure(figsize=(15, 10))\n",
    "\n",
    "# Plot 1: Average Rating by Year\n",
    "plt.subplot(3, 1, 1)\n",
    "plt.plot(yearly_stats_pd['Year'], yearly_stats_pd['mean_rating'], marker='o')\n",
    "plt.title('Average Rating by Year')\n",
    "plt.ylabel('Average Rating')\n",
    "plt.grid(True)\n",
    "\n"
   ]
  },
  {
   "cell_type": "code",
   "execution_count": null,
   "id": "563c3be0-4c8a-4771-aeff-a88ed134a969",
   "metadata": {},
   "outputs": [],
   "source": [
    "# Plot 2: Average Number of Unique Users by Year\n",
    "plt.subplot(3, 1, 3)\n",
    "plt.plot(yearly_stats_pd['Year'], yearly_stats_pd['mean_unique_users'], \n",
    "         marker='o', color='green')\n",
    "plt.title('Average Number of Unique Users by Year')\n",
    "plt.xlabel('Year')\n",
    "plt.ylabel('Average Unique Users')\n",
    "plt.grid(True)\n",
    "\n",
    "plt.tight_layout()\n",
    "plt.show()\n"
   ]
  },
  {
   "cell_type": "code",
   "execution_count": null,
   "id": "2dd8cf0e-89be-4aaa-95b3-f899287fd90a",
   "metadata": {},
   "outputs": [],
   "source": [
    "# Prepare features\n",
    "assembler = VectorAssembler(\n",
    "    inputCols=['avg_rating', 'total_ratings', 'unique_users'], \n",
    "    outputCol='features'\n",
    ")\n"
   ]
  },
  {
   "cell_type": "code",
   "execution_count": null,
   "id": "7bfca7bc-4dac-40dc-aef7-191ef0905f87",
   "metadata": {},
   "outputs": [],
   "source": [
    "# Scale the features\n",
    "feature_df = assembler.transform(df)\n",
    "scaler = StandardScaler(inputCol='features', outputCol='scaled_features')\n",
    "scaler_model = scaler.fit(feature_df)\n",
    "scaled_df = scaler_model.transform(feature_df)\n",
    "\n",
    "# Cell 8: Apply KMeans Clustering\n",
    "# Apply KMeans clustering\n",
    "kmeans = KMeans(k=5, featuresCol='scaled_features', predictionCol='cluster')\n",
    "model = kmeans.fit(scaled_df)\n",
    "clustered_df = model.transform(scaled_df)\n"
   ]
  },
  {
   "cell_type": "code",
   "execution_count": null,
   "id": "df69a852-2276-4145-bcf1-6dfcdf7e16d5",
   "metadata": {},
   "outputs": [],
   "source": [
    "# Calculate cluster statistics\n",
    "cluster_stats = clustered_df.groupBy('cluster').agg(\n",
    "    count('*').alias('count'),\n",
    "    round(avg('avg_rating'), 2).alias('avg_rating'),\n",
    "    round(avg('total_ratings'), 2).alias('avg_total_ratings'),\n",
    "    round(avg('unique_users'), 2).alias('avg_unique_users')\n",
    ").orderBy('cluster')\n",
    "\n",
    "print(\"Cluster Analysis:\")\n",
    "cluster_stats.show()"
   ]
  },
  {
   "cell_type": "markdown",
   "id": "240a9183-c4cc-44ce-a2f5-55e0cee01d78",
   "metadata": {},
   "source": [
    "## Visualize Clusters"
   ]
  },
  {
   "cell_type": "code",
   "execution_count": null,
   "id": "a06633e9-ff86-4293-b588-8616fd7d16a2",
   "metadata": {},
   "outputs": [],
   "source": [
    "# Convert to pandas for visualization\n",
    "clusters_pd = clustered_df.select('avg_rating', 'total_ratings', 'cluster').toPandas()\n",
    "\n",
    "plt.figure(figsize=(12, 8))\n",
    "scatter = plt.scatter(clusters_pd['avg_rating'], \n",
    "                     clusters_pd['total_ratings'],\n",
    "                     c=clusters_pd['cluster'],\n",
    "                     cmap='viridis',\n",
    "                     alpha=0.6)\n",
    "\n",
    "plt.title('Movie Clusters by Rating and Popularity')\n",
    "plt.xlabel('Average Rating')\n",
    "plt.ylabel('Total Ratings')\n",
    "plt.colorbar(scatter, label='Cluster')\n",
    "plt.show()\n",
    "\n",
    "# Cell 11: Display Example Movies from Each Cluster\n",
    "print(\"Example movies from each cluster:\")\n",
    "for i in range(5):\n",
    "    print(f\"\\nCluster {i} examples:\")\n",
    "    clustered_df.filter(col('cluster') == i) \\\n",
    "        .select('Title', 'avg_rating', 'total_ratings', 'unique_users') \\\n",
    "        .orderBy(desc('total_ratings')) \\\n",
    "        .limit(3) \\\n",
    "        .show(truncate=False)"
   ]
  },
  {
   "cell_type": "code",
   "execution_count": null,
   "id": "40e06e08-6db2-4a1f-8737-17dd220a4c40",
   "metadata": {},
   "outputs": [],
   "source": [
    "spark.stop()"
   ]
  },
  {
   "cell_type": "code",
   "execution_count": null,
   "id": "a2e10198-8f54-4906-8962-044893a919ed",
   "metadata": {},
   "outputs": [],
   "source": []
  }
 ],
 "metadata": {
  "kernelspec": {
   "display_name": "Python 3 (ipykernel)",
   "language": "python",
   "name": "python3"
  },
  "language_info": {
   "codemirror_mode": {
    "name": "ipython",
    "version": 3
   },
   "file_extension": ".py",
   "mimetype": "text/x-python",
   "name": "python",
   "nbconvert_exporter": "python",
   "pygments_lexer": "ipython3",
   "version": "3.12.4"
  }
 },
 "nbformat": 4,
 "nbformat_minor": 5
}
